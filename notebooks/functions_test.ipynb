{
 "cells": [
  {
   "cell_type": "code",
   "execution_count": 21,
   "id": "494c8d46",
   "metadata": {},
   "outputs": [],
   "source": [
    "import pandas as pd\n",
    "import logging"
   ]
  },
  {
   "cell_type": "code",
   "execution_count": 22,
   "id": "b291e962",
   "metadata": {},
   "outputs": [],
   "source": [
    "## Testing my funcitons ##\n",
    "from config.logger_setup import setup_logging\n",
    "setup_logging()\n",
    "logger = logging.getLogger(__name__)"
   ]
  },
  {
   "cell_type": "code",
   "execution_count": 23,
   "id": "94a5f8ad",
   "metadata": {},
   "outputs": [],
   "source": [
    "from src.cleaner import df_cleaner, split_data\n",
    "from src.encoder import encode_categorical_columns\n",
    "from src.robust_scaler import scale_numerical_columns, transform_with_scaler\n",
    "from src.db_helpers import SQLConnection"
   ]
  },
  {
   "cell_type": "code",
   "execution_count": 24,
   "id": "6869c491",
   "metadata": {},
   "outputs": [],
   "source": [
    "test_data = pd.read_csv(\"data/raw_data/fraudTest.csv\")"
   ]
  },
  {
   "cell_type": "code",
   "execution_count": 25,
   "id": "d46ef104",
   "metadata": {},
   "outputs": [],
   "source": [
    "cleaned_data = df_cleaner(test_data,logger)"
   ]
  },
  {
   "cell_type": "code",
   "execution_count": 26,
   "id": "04e0815d",
   "metadata": {},
   "outputs": [
    {
     "name": "stdout",
     "output_type": "stream",
     "text": [
      "2025-05-12 17:11:19,441 - __main__ - INFO - Encoder cargado exitosamente desde models/transformers/encoders/ordinal_encoder.pkl\n"
     ]
    }
   ],
   "source": [
    "cleaned_data = encode_categorical_columns(cleaned_data,None,\"models/transformers/encoders/ordinal_encoder.pkl\",logger)"
   ]
  },
  {
   "cell_type": "code",
   "execution_count": 15,
   "id": "06e57e08",
   "metadata": {},
   "outputs": [
    {
     "name": "stdout",
     "output_type": "stream",
     "text": [
      "2025-05-12 14:58:51,232 - __main__ - INFO - Encoder guardado exitosamente en models/transformers/encoders/ordinal_encoder.pkl\n"
     ]
    },
    {
     "data": {
      "text/html": [
       "<div>\n",
       "<style scoped>\n",
       "    .dataframe tbody tr th:only-of-type {\n",
       "        vertical-align: middle;\n",
       "    }\n",
       "\n",
       "    .dataframe tbody tr th {\n",
       "        vertical-align: top;\n",
       "    }\n",
       "\n",
       "    .dataframe thead th {\n",
       "        text-align: right;\n",
       "    }\n",
       "</style>\n",
       "<table border=\"1\" class=\"dataframe\">\n",
       "  <thead>\n",
       "    <tr style=\"text-align: right;\">\n",
       "      <th></th>\n",
       "      <th>category</th>\n",
       "      <th>amount</th>\n",
       "      <th>gender</th>\n",
       "      <th>state</th>\n",
       "      <th>city_population</th>\n",
       "      <th>is_fraud</th>\n",
       "      <th>age</th>\n",
       "      <th>hour</th>\n",
       "    </tr>\n",
       "  </thead>\n",
       "  <tbody>\n",
       "    <tr>\n",
       "      <th>0</th>\n",
       "      <td>10.0</td>\n",
       "      <td>2.86</td>\n",
       "      <td>1.0</td>\n",
       "      <td>39.0</td>\n",
       "      <td>333497</td>\n",
       "      <td>0</td>\n",
       "      <td>57</td>\n",
       "      <td>12</td>\n",
       "    </tr>\n",
       "    <tr>\n",
       "      <th>1</th>\n",
       "      <td>10.0</td>\n",
       "      <td>29.84</td>\n",
       "      <td>0.0</td>\n",
       "      <td>43.0</td>\n",
       "      <td>302</td>\n",
       "      <td>0</td>\n",
       "      <td>35</td>\n",
       "      <td>12</td>\n",
       "    </tr>\n",
       "    <tr>\n",
       "      <th>2</th>\n",
       "      <td>5.0</td>\n",
       "      <td>41.28</td>\n",
       "      <td>0.0</td>\n",
       "      <td>33.0</td>\n",
       "      <td>34496</td>\n",
       "      <td>0</td>\n",
       "      <td>54</td>\n",
       "      <td>12</td>\n",
       "    </tr>\n",
       "    <tr>\n",
       "      <th>3</th>\n",
       "      <td>9.0</td>\n",
       "      <td>60.05</td>\n",
       "      <td>1.0</td>\n",
       "      <td>8.0</td>\n",
       "      <td>54767</td>\n",
       "      <td>0</td>\n",
       "      <td>37</td>\n",
       "      <td>12</td>\n",
       "    </tr>\n",
       "    <tr>\n",
       "      <th>4</th>\n",
       "      <td>13.0</td>\n",
       "      <td>3.19</td>\n",
       "      <td>1.0</td>\n",
       "      <td>21.0</td>\n",
       "      <td>1126</td>\n",
       "      <td>0</td>\n",
       "      <td>69</td>\n",
       "      <td>12</td>\n",
       "    </tr>\n",
       "    <tr>\n",
       "      <th>...</th>\n",
       "      <td>...</td>\n",
       "      <td>...</td>\n",
       "      <td>...</td>\n",
       "      <td>...</td>\n",
       "      <td>...</td>\n",
       "      <td>...</td>\n",
       "      <td>...</td>\n",
       "      <td>...</td>\n",
       "    </tr>\n",
       "    <tr>\n",
       "      <th>555714</th>\n",
       "      <td>5.0</td>\n",
       "      <td>43.77</td>\n",
       "      <td>1.0</td>\n",
       "      <td>23.0</td>\n",
       "      <td>519</td>\n",
       "      <td>0</td>\n",
       "      <td>59</td>\n",
       "      <td>23</td>\n",
       "    </tr>\n",
       "    <tr>\n",
       "      <th>555715</th>\n",
       "      <td>7.0</td>\n",
       "      <td>111.84</td>\n",
       "      <td>1.0</td>\n",
       "      <td>42.0</td>\n",
       "      <td>28739</td>\n",
       "      <td>0</td>\n",
       "      <td>25</td>\n",
       "      <td>23</td>\n",
       "    </tr>\n",
       "    <tr>\n",
       "      <th>555716</th>\n",
       "      <td>7.0</td>\n",
       "      <td>86.88</td>\n",
       "      <td>0.0</td>\n",
       "      <td>46.0</td>\n",
       "      <td>3684</td>\n",
       "      <td>0</td>\n",
       "      <td>43</td>\n",
       "      <td>23</td>\n",
       "    </tr>\n",
       "    <tr>\n",
       "      <th>555717</th>\n",
       "      <td>13.0</td>\n",
       "      <td>7.99</td>\n",
       "      <td>1.0</td>\n",
       "      <td>12.0</td>\n",
       "      <td>129</td>\n",
       "      <td>0</td>\n",
       "      <td>59</td>\n",
       "      <td>23</td>\n",
       "    </tr>\n",
       "    <tr>\n",
       "      <th>555718</th>\n",
       "      <td>0.0</td>\n",
       "      <td>38.13</td>\n",
       "      <td>1.0</td>\n",
       "      <td>35.0</td>\n",
       "      <td>116001</td>\n",
       "      <td>0</td>\n",
       "      <td>32</td>\n",
       "      <td>23</td>\n",
       "    </tr>\n",
       "  </tbody>\n",
       "</table>\n",
       "<p>555719 rows × 8 columns</p>\n",
       "</div>"
      ],
      "text/plain": [
       "        category  amount  gender  state  city_population  is_fraud  age  hour\n",
       "0           10.0    2.86     1.0   39.0           333497         0   57    12\n",
       "1           10.0   29.84     0.0   43.0              302         0   35    12\n",
       "2            5.0   41.28     0.0   33.0            34496         0   54    12\n",
       "3            9.0   60.05     1.0    8.0            54767         0   37    12\n",
       "4           13.0    3.19     1.0   21.0             1126         0   69    12\n",
       "...          ...     ...     ...    ...              ...       ...  ...   ...\n",
       "555714       5.0   43.77     1.0   23.0              519         0   59    23\n",
       "555715       7.0  111.84     1.0   42.0            28739         0   25    23\n",
       "555716       7.0   86.88     0.0   46.0             3684         0   43    23\n",
       "555717      13.0    7.99     1.0   12.0              129         0   59    23\n",
       "555718       0.0   38.13     1.0   35.0           116001         0   32    23\n",
       "\n",
       "[555719 rows x 8 columns]"
      ]
     },
     "execution_count": 15,
     "metadata": {},
     "output_type": "execute_result"
    }
   ],
   "source": [
    "encode_categorical_columns(cleaned_data,\"models/transformers/encoders/ordinal_encoder.pkl\",None,logger)"
   ]
  },
  {
   "cell_type": "code",
   "execution_count": 27,
   "id": "ac0f4f1e",
   "metadata": {},
   "outputs": [
    {
     "name": "stdout",
     "output_type": "stream",
     "text": [
      "<class 'pandas.core.frame.DataFrame'>\n",
      "RangeIndex: 555719 entries, 0 to 555718\n",
      "Data columns (total 8 columns):\n",
      " #   Column           Non-Null Count   Dtype  \n",
      "---  ------           --------------   -----  \n",
      " 0   category         555719 non-null  float64\n",
      " 1   amount           555719 non-null  float64\n",
      " 2   gender           555719 non-null  float64\n",
      " 3   state            555719 non-null  float64\n",
      " 4   city_population  555719 non-null  int64  \n",
      " 5   is_fraud         555719 non-null  int64  \n",
      " 6   age              555719 non-null  int64  \n",
      " 7   hour             555719 non-null  int32  \n",
      "dtypes: float64(4), int32(1), int64(3)\n",
      "memory usage: 31.8 MB\n"
     ]
    }
   ],
   "source": [
    "cleaned_data.info()"
   ]
  },
  {
   "cell_type": "code",
   "execution_count": null,
   "id": "831b7fa6",
   "metadata": {},
   "outputs": [],
   "source": []
  },
  {
   "cell_type": "code",
   "execution_count": 33,
   "id": "099ed3a6",
   "metadata": {},
   "outputs": [],
   "source": [
    "X, Y = split_data(cleaned_data,\"is_fraud\",logger)"
   ]
  },
  {
   "cell_type": "markdown",
   "id": "56275a3c",
   "metadata": {},
   "source": []
  },
  {
   "cell_type": "code",
   "execution_count": 29,
   "id": "b4d53fba",
   "metadata": {},
   "outputs": [
    {
     "data": {
      "text/html": [
       "<div>\n",
       "<style scoped>\n",
       "    .dataframe tbody tr th:only-of-type {\n",
       "        vertical-align: middle;\n",
       "    }\n",
       "\n",
       "    .dataframe tbody tr th {\n",
       "        vertical-align: top;\n",
       "    }\n",
       "\n",
       "    .dataframe thead th {\n",
       "        text-align: right;\n",
       "    }\n",
       "</style>\n",
       "<table border=\"1\" class=\"dataframe\">\n",
       "  <thead>\n",
       "    <tr style=\"text-align: right;\">\n",
       "      <th></th>\n",
       "      <th>category</th>\n",
       "      <th>amount</th>\n",
       "      <th>gender</th>\n",
       "      <th>state</th>\n",
       "      <th>city_population</th>\n",
       "      <th>age</th>\n",
       "      <th>hour</th>\n",
       "    </tr>\n",
       "  </thead>\n",
       "  <tbody>\n",
       "    <tr>\n",
       "      <th>0</th>\n",
       "      <td>10.0</td>\n",
       "      <td>2.86</td>\n",
       "      <td>1.0</td>\n",
       "      <td>39.0</td>\n",
       "      <td>333497</td>\n",
       "      <td>57</td>\n",
       "      <td>12</td>\n",
       "    </tr>\n",
       "    <tr>\n",
       "      <th>1</th>\n",
       "      <td>10.0</td>\n",
       "      <td>29.84</td>\n",
       "      <td>0.0</td>\n",
       "      <td>43.0</td>\n",
       "      <td>302</td>\n",
       "      <td>35</td>\n",
       "      <td>12</td>\n",
       "    </tr>\n",
       "    <tr>\n",
       "      <th>2</th>\n",
       "      <td>5.0</td>\n",
       "      <td>41.28</td>\n",
       "      <td>0.0</td>\n",
       "      <td>33.0</td>\n",
       "      <td>34496</td>\n",
       "      <td>54</td>\n",
       "      <td>12</td>\n",
       "    </tr>\n",
       "    <tr>\n",
       "      <th>3</th>\n",
       "      <td>9.0</td>\n",
       "      <td>60.05</td>\n",
       "      <td>1.0</td>\n",
       "      <td>8.0</td>\n",
       "      <td>54767</td>\n",
       "      <td>37</td>\n",
       "      <td>12</td>\n",
       "    </tr>\n",
       "    <tr>\n",
       "      <th>4</th>\n",
       "      <td>13.0</td>\n",
       "      <td>3.19</td>\n",
       "      <td>1.0</td>\n",
       "      <td>21.0</td>\n",
       "      <td>1126</td>\n",
       "      <td>69</td>\n",
       "      <td>12</td>\n",
       "    </tr>\n",
       "    <tr>\n",
       "      <th>...</th>\n",
       "      <td>...</td>\n",
       "      <td>...</td>\n",
       "      <td>...</td>\n",
       "      <td>...</td>\n",
       "      <td>...</td>\n",
       "      <td>...</td>\n",
       "      <td>...</td>\n",
       "    </tr>\n",
       "    <tr>\n",
       "      <th>555714</th>\n",
       "      <td>5.0</td>\n",
       "      <td>43.77</td>\n",
       "      <td>1.0</td>\n",
       "      <td>23.0</td>\n",
       "      <td>519</td>\n",
       "      <td>59</td>\n",
       "      <td>23</td>\n",
       "    </tr>\n",
       "    <tr>\n",
       "      <th>555715</th>\n",
       "      <td>7.0</td>\n",
       "      <td>111.84</td>\n",
       "      <td>1.0</td>\n",
       "      <td>42.0</td>\n",
       "      <td>28739</td>\n",
       "      <td>25</td>\n",
       "      <td>23</td>\n",
       "    </tr>\n",
       "    <tr>\n",
       "      <th>555716</th>\n",
       "      <td>7.0</td>\n",
       "      <td>86.88</td>\n",
       "      <td>0.0</td>\n",
       "      <td>46.0</td>\n",
       "      <td>3684</td>\n",
       "      <td>43</td>\n",
       "      <td>23</td>\n",
       "    </tr>\n",
       "    <tr>\n",
       "      <th>555717</th>\n",
       "      <td>13.0</td>\n",
       "      <td>7.99</td>\n",
       "      <td>1.0</td>\n",
       "      <td>12.0</td>\n",
       "      <td>129</td>\n",
       "      <td>59</td>\n",
       "      <td>23</td>\n",
       "    </tr>\n",
       "    <tr>\n",
       "      <th>555718</th>\n",
       "      <td>0.0</td>\n",
       "      <td>38.13</td>\n",
       "      <td>1.0</td>\n",
       "      <td>35.0</td>\n",
       "      <td>116001</td>\n",
       "      <td>32</td>\n",
       "      <td>23</td>\n",
       "    </tr>\n",
       "  </tbody>\n",
       "</table>\n",
       "<p>555719 rows × 7 columns</p>\n",
       "</div>"
      ],
      "text/plain": [
       "        category  amount  gender  state  city_population  age  hour\n",
       "0           10.0    2.86     1.0   39.0           333497   57    12\n",
       "1           10.0   29.84     0.0   43.0              302   35    12\n",
       "2            5.0   41.28     0.0   33.0            34496   54    12\n",
       "3            9.0   60.05     1.0    8.0            54767   37    12\n",
       "4           13.0    3.19     1.0   21.0             1126   69    12\n",
       "...          ...     ...     ...    ...              ...  ...   ...\n",
       "555714       5.0   43.77     1.0   23.0              519   59    23\n",
       "555715       7.0  111.84     1.0   42.0            28739   25    23\n",
       "555716       7.0   86.88     0.0   46.0             3684   43    23\n",
       "555717      13.0    7.99     1.0   12.0              129   59    23\n",
       "555718       0.0   38.13     1.0   35.0           116001   32    23\n",
       "\n",
       "[555719 rows x 7 columns]"
      ]
     },
     "execution_count": 29,
     "metadata": {},
     "output_type": "execute_result"
    }
   ],
   "source": [
    "X"
   ]
  },
  {
   "cell_type": "code",
   "execution_count": 30,
   "id": "0cb426f3",
   "metadata": {},
   "outputs": [
    {
     "data": {
      "text/plain": [
       "0         0\n",
       "1         0\n",
       "2         0\n",
       "3         0\n",
       "4         0\n",
       "         ..\n",
       "555714    0\n",
       "555715    0\n",
       "555716    0\n",
       "555717    0\n",
       "555718    0\n",
       "Name: is_fraud, Length: 555719, dtype: int64"
      ]
     },
     "execution_count": 30,
     "metadata": {},
     "output_type": "execute_result"
    }
   ],
   "source": [
    "Y"
   ]
  },
  {
   "cell_type": "code",
   "execution_count": 35,
   "id": "8f5b6e96",
   "metadata": {},
   "outputs": [
    {
     "name": "stdout",
     "output_type": "stream",
     "text": [
      "2025-05-12 17:23:50,783 - __main__ - INFO - Scaler loaded successfully from models/transformers/scalers/robust_scaler.pk\n",
      "2025-05-12 17:23:50,925 - __main__ - INFO - Successfully scaled 7 numerical columns\n"
     ]
    }
   ],
   "source": [
    "# X = scale_numerical_columns(X,\"models/transformers/scalers/robust_scaler.pk\",None, logger)\n",
    "X = scale_numerical_columns(X,None,\"models/transformers/scalers/robust_scaler.pk\", logger)"
   ]
  },
  {
   "cell_type": "code",
   "execution_count": 36,
   "id": "aef2cb59",
   "metadata": {},
   "outputs": [
    {
     "data": {
      "text/plain": [
       "(        category    amount  gender     state  city_population       age  \\\n",
       " 0       0.571429 -0.605478     1.0  0.565217        17.477249  0.333333   \n",
       " 1       0.571429 -0.237803     0.0  0.739130        -0.111170 -0.583333   \n",
       " 2      -0.142857 -0.081902     0.0  0.304348         1.693834  0.208333   \n",
       " 3       0.428571  0.173889     1.0 -0.782609         2.763883 -0.500000   \n",
       " 4       1.000000 -0.600981     1.0 -0.217391        -0.067673  0.833333   \n",
       " ...          ...       ...     ...       ...              ...       ...   \n",
       " 555714 -0.142857 -0.047969     1.0 -0.130435        -0.099715  0.416667   \n",
       " 555715  0.142857  0.879667     1.0  0.695652         1.389939 -1.000000   \n",
       " 555716  0.142857  0.539520     0.0  0.869565         0.067356 -0.250000   \n",
       " 555717  1.000000 -0.535568     1.0 -0.608696        -0.120302  0.416667   \n",
       " 555718 -0.857143 -0.124830     1.0  0.391304         5.996252 -0.708333   \n",
       " \n",
       "             hour  \n",
       " 0      -0.166667  \n",
       " 1      -0.166667  \n",
       " 2      -0.166667  \n",
       " 3      -0.166667  \n",
       " 4      -0.166667  \n",
       " ...          ...  \n",
       " 555714  0.750000  \n",
       " 555715  0.750000  \n",
       " 555716  0.750000  \n",
       " 555717  0.750000  \n",
       " 555718  0.750000  \n",
       " \n",
       " [555719 rows x 7 columns],\n",
       " RobustScaler())"
      ]
     },
     "execution_count": 36,
     "metadata": {},
     "output_type": "execute_result"
    }
   ],
   "source": [
    "X"
   ]
  },
  {
   "cell_type": "code",
   "execution_count": null,
   "id": "062f35a3",
   "metadata": {},
   "outputs": [],
   "source": []
  }
 ],
 "metadata": {
  "kernelspec": {
   "display_name": "venv_ML",
   "language": "python",
   "name": "python3"
  },
  "language_info": {
   "codemirror_mode": {
    "name": "ipython",
    "version": 3
   },
   "file_extension": ".py",
   "mimetype": "text/x-python",
   "name": "python",
   "nbconvert_exporter": "python",
   "pygments_lexer": "ipython3",
   "version": "3.11.9"
  }
 },
 "nbformat": 4,
 "nbformat_minor": 5
}
